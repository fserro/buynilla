{
 "cells": [
  {
   "cell_type": "code",
   "execution_count": 256,
   "metadata": {},
   "outputs": [],
   "source": [
    "import datetime\n",
    "import numpy as np\n",
    "import pandas as pd\n",
    "import random\n",
    "from datetime import datetime\n",
    "from datetime import timedelta  \n",
    "import time\n",
    "import os"
   ]
  },
  {
   "cell_type": "code",
   "execution_count": 257,
   "metadata": {},
   "outputs": [],
   "source": [
    "# global variables\n",
    "TIME_LIST = pd.DataFrame(\n",
    "    columns=[\"time\"],\n",
    "    index=pd.date_range(\"07:00\", \"22:00\", freq=\"1min\"))\n",
    "TIME_LIST[\"time\"] = TIME_LIST.index.strftime('%H:%M')\n",
    "TIME_LIST.reset_index(drop=True, inplace=True)"
   ]
  },
  {
   "cell_type": "code",
   "execution_count": 258,
   "metadata": {},
   "outputs": [],
   "source": [
    "def location_finder():#customer_id, df):\n",
    "    # As we are working on a simulation, we should just determine initial_states at random\n",
    "    initial_states = ['dairy', 'drinks', 'fruit', 'spices']\n",
    "    initial_probabilities = [0.399159, 0.141677, 0.348603, 0.110561] #From Stefan\n",
    "    location = random.choices(initial_states, weights = initial_probabilities)[0]\n",
    "    #location = df[(df['customer_id'] == customer_id)&(df['section_order']=='first')]['location'][0]\n",
    "    #return location"
   ]
  },
  {
   "cell_type": "code",
   "execution_count": 249,
   "metadata": {},
   "outputs": [],
   "source": [
    "class Customer:\n",
    "    '''a single customer that moves through the supermarket in a MCMC simulation'''\n",
    "\n",
    "    def __init__(self, id):\n",
    "        self.id = id\n",
    "        self.location = location_finder()#id, df)\n",
    "\n",
    "    def __repr__(self):\n",
    "        return f'Customer {self.id} is in {self.location}'\n",
    "\n",
    "    def next_location(self):\n",
    "        ...\n",
    "        \n",
    "    def is_active(self, location):\n",
    "        ..."
   ]
  },
  {
   "cell_type": "code",
   "execution_count": 250,
   "metadata": {},
   "outputs": [],
   "source": [
    "import random\n",
    "\n",
    "#Initital state\n",
    "states_first = ['dairy', 'drinks', 'fruit', 'spices'] # 'entrance' states\n",
    "\n",
    "initial_probabilities = [0.399159, 0.141677,  0.348603, 0.110561]# and its probabbilities\n",
    "\n",
    "#transition probability matrix, type: dict\n",
    "states = ['checkout', 'dairy', 'drinks','fruit', 'spices']  # posible future states\n",
    "\n",
    "matrix= pd.read_csv('transition_probability_matrix.csv')\n",
    "matrix= matrix.transpose()\n",
    "new_header = matrix.iloc[0] #grab the first row for the header\n",
    "matrix = matrix[1:] #take the data less the header row\n",
    "matrix.columns = new_header\n",
    "\n",
    "transition_probabilities= matrix.to_dict('list')# transition probabailities matrix of posible future states"
   ]
  },
  {
   "cell_type": "code",
   "execution_count": 271,
   "metadata": {},
   "outputs": [],
   "source": [
    "import datetime\n",
    "import csv\n",
    "\n",
    "\n",
    "class Supermarket:\n",
    "    \"\"\"manages multiple Customer instances that are currently in the market.\n",
    "    \"\"\"\n",
    "\n",
    "    def __init__(self):        \n",
    "        # a list of Customer objects\n",
    "        self.customers = []\n",
    "        self.minutes = 0\n",
    "        self.last_id = 0\n",
    "        self.history= []\n",
    "\n",
    "    def __repr__(self):\n",
    "        return f\"<{self.customers_present} customers present at section {self.name}.>\"\n",
    "\n",
    "    def get_time():\n",
    "        \"\"\"current time in HH:MM format,\n",
    "        \"\"\"\n",
    "        for i in range(len(TIME_LIST)):\n",
    "            time.sleep(1)\n",
    "            current_time = TIME_LIST['time'][i]\n",
    "            return current_time\n",
    "    \n",
    "\n",
    "    def print_customers():\n",
    "        \"\"\"print all customers with the current time and id in CSV format.\n",
    "        \"\"\"\n",
    "\n",
    "\n",
    "    def next_minute():\n",
    "        \"\"\"propagates all customers to the next state.\n",
    "        \"\"\"\n",
    "    def get_next_state(self):\n",
    "        weights = transition_probabilities[state]\n",
    "        return random.choices(state, weights=weights)[0]\n",
    "    \n",
    "    def add_new_customers(self):\n",
    "        \"\"\"randomly creates new customers.\n",
    "        \"\"\"\n",
    "        customer_ids = [f'customer_{x}' for x in range(1,100)]\n",
    "        for i, cust in enumerate(customer_ids):\n",
    "            cust = Customer(i)\n",
    "        \n",
    "        final_result_list = []\n",
    "        result=[]\n",
    "        for i in customer_ids:\n",
    "                state= random.choices(states_first, weights = initial_probabilities)[0] \n",
    "                customer_timer = datetime.datetime.strptime(TIME_LIST.iloc[random.randint(0,901)][0],'%H:%M')\n",
    "                #customer_timer = TIME_LIST.iloc[random.randint(0,901)][0]\n",
    "                #result= [state]\n",
    "                self.history.append([i,state,customer_timer.time()])    # define a list for individual customer, with its 'entrance' state in\n",
    "                #print(i,state,customer_timer.time())\n",
    "                #print(result)\n",
    "                \n",
    "                while True:\n",
    "                    state=get_next_state(state)\n",
    "                    #print(customer_timer)\n",
    "                    customer_timer = customer_timer + timedelta(minutes= random.randint(0,10))\n",
    "                    #print(i,state, customer_timer.time())\n",
    "                    #result.append(state)\n",
    "                    self.history.append([i,state, customer_timer.time()])\n",
    "                    #print(result)\n",
    "                    if state == 'checkout':\n",
    "                        break\n",
    "                        \n",
    "                #', '.join(result)        \n",
    "                # create a dataframe here\n",
    "                final_result_list.append(result)\n",
    "        #return(result)\n",
    "\n",
    "\n",
    "\n",
    "    def create_csv(self):        \n",
    "        df = pd.DataFrame(self.history)\n",
    "        df.to_csv('filename.csv', index=False)\n",
    "\n",
    "    def remove_exitsting_customers(self):\n",
    "        \"\"\"removes every customer that is not active any more.\n",
    "        \"\"\"\n",
    " "
   ]
  },
  {
   "cell_type": "code",
   "execution_count": 272,
   "metadata": {
    "jupyter": {
     "source_hidden": true
    }
   },
   "outputs": [],
   "source": [
    "market = Supermarket()\n"
   ]
  },
  {
   "cell_type": "code",
   "execution_count": 261,
   "metadata": {},
   "outputs": [],
   "source": [
    "Supermarket.create_csv(market)"
   ]
  },
  {
   "cell_type": "code",
   "execution_count": 200,
   "metadata": {},
   "outputs": [
    {
     "data": {
      "text/plain": [
       "'07:00'"
      ]
     },
     "execution_count": 200,
     "metadata": {},
     "output_type": "execute_result"
    }
   ],
   "source": [
    "Supermarket.get_time()"
   ]
  },
  {
   "cell_type": "code",
   "execution_count": 273,
   "metadata": {},
   "outputs": [],
   "source": [
    "market = Supermarket()\n",
    "market.add_new_customers()"
   ]
  },
  {
   "cell_type": "code",
   "execution_count": 275,
   "metadata": {},
   "outputs": [],
   "source": [
    "market.create_csv()"
   ]
  },
  {
   "cell_type": "code",
   "execution_count": null,
   "metadata": {},
   "outputs": [],
   "source": []
  }
 ],
 "metadata": {
  "kernelspec": {
   "display_name": "Python 3",
   "language": "python",
   "name": "python3"
  },
  "language_info": {
   "codemirror_mode": {
    "name": "ipython",
    "version": 3
   },
   "file_extension": ".py",
   "mimetype": "text/x-python",
   "name": "python",
   "nbconvert_exporter": "python",
   "pygments_lexer": "ipython3",
   "version": "3.8.5"
  }
 },
 "nbformat": 4,
 "nbformat_minor": 4
}
