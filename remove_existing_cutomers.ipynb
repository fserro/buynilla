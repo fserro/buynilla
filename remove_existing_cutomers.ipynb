{
 "cells": [
  {
   "cell_type": "code",
   "execution_count": 1,
   "metadata": {},
   "outputs": [],
   "source": [
    "import datetime\n",
    "import numpy as np\n",
    "import pandas as pd"
   ]
  },
  {
   "cell_type": "code",
   "execution_count": null,
   "metadata": {},
   "outputs": [],
   "source": [
    "import datetime\n",
    "import csv\n",
    "\n",
    "\n",
    "class Supermarket:\n",
    "    \"\"\"manages multiple Customer instances that are currently in the market.\n",
    "    \"\"\"\n",
    "\n",
    "    def __init__(self):        \n",
    "        # a list of Customer objects\n",
    "        self.customers = []\n",
    "        self.minutes = 0\n",
    "        self.last_id = 0\n",
    "\n",
    "    def __repr__(self):\n",
    "        return f\"<{self.customers_present} customers present at section {self.name}.>\"\n",
    "\n",
    "    def get_time():\n",
    "        \"\"\"current time in HH:MM format,\n",
    "        \"\"\"\n",
    "    \n",
    "\n",
    "    def print_customers():\n",
    "        \"\"\"print all customers with the current time and id in CSV format.\n",
    "        \"\"\"\n",
    "\n",
    "\n",
    "    def next_minute():\n",
    "        \"\"\"propagates all customers to the next state.\n",
    "        \"\"\"\n",
    "    \n",
    "    def add_new_customers():\n",
    "        \"\"\"randomly creates new customers.\n",
    "        \"\"\"\n",
    "\n",
    "    def remove_exitsting_customers(self):\n",
    "        \"\"\"removes every customer that is not active any more.\n",
    "        \"\"\"\n",
    " "
   ]
  },
  {
   "cell_type": "code",
   "execution_count": 137,
   "metadata": {},
   "outputs": [],
   "source": [
    "import random\n",
    "\n",
    "#Initital state\n",
    "states_first = ['dairy', 'drinks', 'fruit', 'spices'] # 'entrance' states\n",
    "\n",
    "initial_probabilities = [0.399159, 0.141677,  0.348603, 0.110561]# and its probabbilities\n",
    "\n",
    "#transition probability matrix, type: dict\n",
    "states = ['checkout', 'dairy', 'drinks','fruit', 'spices']  # posible future states\n",
    "\n",
    "matrix= pd.read_csv('transition_probability_matrix.csv')\n",
    "matrix= matrix.transpose()\n",
    "new_header = matrix.iloc[0] #grab the first row for the header\n",
    "matrix = matrix[1:] #take the data less the header row\n",
    "matrix.columns = new_header\n",
    "\n",
    "transition_probabilities= matrix.to_dict('list')# transition probabailities matrix of posible future states"
   ]
  },
  {
   "cell_type": "code",
   "execution_count": 140,
   "metadata": {},
   "outputs": [],
   "source": [
    "final_result_list = []\n",
    "for i in range(0, 10):\n",
    "        state= random.choices(states_first, weights = initial_probabilities)[0] \n",
    "        \n",
    "        def get_next_state(state):\n",
    "            weights = transition_probabilities[state]\n",
    "            return random.choices(states, weights=weights)[0]\n",
    "                                  \n",
    "        result = [state]    # define a list for individual customer, with its 'entrance' state in\n",
    "        \n",
    "        while True:\n",
    "            state=get_next_state(state)\n",
    "            result.append(state)\n",
    "            if state == 'checkout':\n",
    "                break\n",
    "            \n",
    "        ', '.join(result)     # and joins the following states\n",
    "        #print (result)\n",
    "                       \n",
    "        final_result_list.append(result)"
   ]
  },
  {
   "cell_type": "code",
   "execution_count": 141,
   "metadata": {},
   "outputs": [
    {
     "data": {
      "text/plain": [
       "[['fruit', 'spices', 'fruit', 'dairy', 'checkout'],\n",
       " ['dairy', 'fruit', 'dairy', 'dairy', 'dairy', 'checkout'],\n",
       " ['drinks', 'fruit', 'fruit', 'fruit', 'checkout'],\n",
       " ['fruit', 'fruit', 'spices', 'checkout'],\n",
       " ['fruit',\n",
       "  'fruit',\n",
       "  'fruit',\n",
       "  'fruit',\n",
       "  'fruit',\n",
       "  'fruit',\n",
       "  'fruit',\n",
       "  'fruit',\n",
       "  'fruit',\n",
       "  'spices',\n",
       "  'drinks',\n",
       "  'drinks',\n",
       "  'drinks',\n",
       "  'drinks',\n",
       "  'checkout'],\n",
       " ['fruit',\n",
       "  'fruit',\n",
       "  'fruit',\n",
       "  'fruit',\n",
       "  'spices',\n",
       "  'fruit',\n",
       "  'dairy',\n",
       "  'dairy',\n",
       "  'dairy',\n",
       "  'dairy',\n",
       "  'dairy',\n",
       "  'dairy',\n",
       "  'dairy',\n",
       "  'dairy',\n",
       "  'dairy',\n",
       "  'checkout'],\n",
       " ['dairy', 'dairy', 'dairy', 'dairy', 'dairy', 'checkout'],\n",
       " ['spices', 'dairy', 'drinks', 'fruit', 'checkout'],\n",
       " ['dairy', 'fruit', 'fruit', 'fruit', 'fruit', 'checkout'],\n",
       " ['dairy', 'dairy', 'dairy', 'checkout']]"
      ]
     },
     "execution_count": 141,
     "metadata": {},
     "output_type": "execute_result"
    }
   ],
   "source": [
    "pop_list = final_result_list\n",
    "pop_list"
   ]
  },
  {
   "cell_type": "code",
   "execution_count": null,
   "metadata": {},
   "outputs": [],
   "source": []
  }
 ],
 "metadata": {
  "kernelspec": {
   "display_name": "Python 3",
   "language": "python",
   "name": "python3"
  },
  "language_info": {
   "codemirror_mode": {
    "name": "ipython",
    "version": 3
   },
   "file_extension": ".py",
   "mimetype": "text/x-python",
   "name": "python",
   "nbconvert_exporter": "python",
   "pygments_lexer": "ipython3",
   "version": "3.8.5"
  }
 },
 "nbformat": 4,
 "nbformat_minor": 4
}
